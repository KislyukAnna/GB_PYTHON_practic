{
 "cells": [
  {
   "cell_type": "markdown",
   "metadata": {},
   "source": [
    "**Задача №49.** \n",
    "\n",
    "Создать телефонный справочник с\n",
    "возможностью импорта и экспорта данных в\n",
    "формате .txt. Фамилия, имя, отчество, номер\n",
    "телефона - данные, которые должны находиться\n",
    "в файле.\n",
    "\n",
    "1. Программа должна выводить данные\n",
    "2. Программа должна сохранять данные в\n",
    "текстовом файле\n",
    "3. Пользователь может ввести одну из\n",
    "характеристик для поиска определенной\n",
    "записи(Например имя или фамилию\n",
    "человека)\n",
    "4. Использование функций. Ваша программа\n",
    "не должна быть линейной"
   ]
  },
  {
   "cell_type": "code",
   "execution_count": null,
   "metadata": {},
   "outputs": [],
   "source": [
    "input = open(\"INPUT.TXT\", \"r\")\n",
    "output = open(\"OUTPUT.TXT\", \"w\")\n",
    "\n",
    "a,b = list(map(int,input.read().split()))\n",
    "output.write(str(a+b))\n"
   ]
  },
  {
   "cell_type": "code",
   "execution_count": null,
   "metadata": {},
   "outputs": [],
   "source": [
    "\n",
    "input.close()\n",
    "output.close()"
   ]
  }
 ],
 "metadata": {
  "language_info": {
   "name": "python"
  }
 },
 "nbformat": 4,
 "nbformat_minor": 2
}

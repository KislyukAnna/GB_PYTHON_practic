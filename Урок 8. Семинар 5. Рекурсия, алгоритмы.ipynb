{
 "cells": [
  {
   "cell_type": "markdown",
   "metadata": {},
   "source": [
    "**Задача №31.** найти число Фибоначчи\n",
    "\n",
    "Последовательностью Фибоначчи называется\n",
    "последовательность чисел a0, a1, ..., an, ..., где \n",
    "\n",
    "a0 = 0, a1 = 1, ak = ak-1 + ak-2 (k > 1).\n",
    "\n",
    "Требуется найти N-е число Фибоначчи\n",
    "Input: 7\n",
    "Output: 21"
   ]
  },
  {
   "cell_type": "code",
   "execution_count": 3,
   "metadata": {},
   "outputs": [
    {
     "name": "stdout",
     "output_type": "stream",
     "text": [
      "8\n"
     ]
    }
   ],
   "source": [
    "#0 1 1 2 3 5 8 13 21\n",
    "\n",
    "def f(n):\n",
    "    if n == 0 or n == 1:\n",
    "        return 1\n",
    "    return f(n - 1) + f(n - 2)\n",
    "\n",
    "\n",
    "n = 7 \n",
    "#int(input())\n",
    "\n",
    "print(f(n - 2))"
   ]
  },
  {
   "cell_type": "markdown",
   "metadata": {},
   "source": [
    "**Задача №33.**\n",
    "\n",
    "Хакер Василий получил доступ к классному журналу и\n",
    "хочет заменить все свои минимальные оценки на\n",
    "максимальные. \n",
    "\n",
    "Напишите программу, которая\n",
    "заменяет оценки Василия, но наоборот: все\n",
    "максимальные – на минимальные.\n",
    "\n",
    "Input: 5 -> 1 3 3 3 4\n",
    "\n",
    "Output: 1 3 3 3 1"
   ]
  },
  {
   "cell_type": "code",
   "execution_count": 4,
   "metadata": {},
   "outputs": [
    {
     "name": "stdout",
     "output_type": "stream",
     "text": [
      "[1, 1, 4, 3, 2]\n"
     ]
    }
   ],
   "source": [
    "# n = int(input())\n",
    "\n",
    "# list1 = []\n",
    "# for i in range(n)\n",
    "#     x = int(input())\n",
    "#     list.append(x)\n",
    "n = 5\n",
    "list1 = [5,1,4,3,2]\n",
    "\n",
    "\n",
    "max_n = max(list1)\n",
    "min_n = min(list1)\n",
    "\n",
    "for i in range(len(list1)):\n",
    "    if list1[i] == max_n:\n",
    "        list1[i] = min_n\n",
    "\n",
    "print(list1)\n"
   ]
  },
  {
   "cell_type": "markdown",
   "metadata": {},
   "source": [
    "**Задача №35.**\n",
    "Напишите функцию, которая принимает одно число и \n",
    "проверяет, является ли оно простым\n",
    "\n",
    "Напоминание: Простое число - это число, которое \n",
    "имеет 2 делителя: 1 и n(само число)\n",
    "\n",
    "Input: 5\n",
    "\n",
    "Output: yes"
   ]
  },
  {
   "cell_type": "code",
   "execution_count": 7,
   "metadata": {},
   "outputs": [
    {
     "name": "stdout",
     "output_type": "stream",
     "text": [
      "yes\n"
     ]
    }
   ],
   "source": [
    "def prime(n):\n",
    "    flag = True\n",
    "    i = 2\n",
    "    while i < n and flag == True:\n",
    "        if n % i == 0:\n",
    "            flag = False\n",
    "        \n",
    "        i += 1\n",
    "    if flag:\n",
    "        return 'yes'\n",
    "    else:\n",
    "        return 'no'\n",
    "\n",
    "n = 13\n",
    "\n",
    "print(prime(n))"
   ]
  },
  {
   "cell_type": "markdown",
   "metadata": {},
   "source": [
    "**Задача №37.**\n",
    "\n",
    "Дано натуральное число N и\n",
    "последовательность из N элементов.\n",
    "\n",
    "Требуется вывести эту последовательность в\n",
    "обратном порядке.\n",
    "\n",
    "Примечание. В программе запрещается\n",
    "объявлять массивы и использовать циклы\n",
    "(даже для ввода и вывода).\n",
    "\n",
    "Input: 2 -> 3 4\n",
    "\n",
    "Output: 4 3\n"
   ]
  },
  {
   "cell_type": "code",
   "execution_count": null,
   "metadata": {},
   "outputs": [],
   "source": [
    "def f(n):\n",
    "    if n == 0:\n",
    "        return ''\n",
    "    k = int(input())\n",
    "    return f(n-1) + f'{k}'\n",
    "\n",
    "n = int(input())\n",
    "print(f(n))"
   ]
  },
  {
   "cell_type": "markdown",
   "metadata": {},
   "source": [
    "### Домашка"
   ]
  },
  {
   "cell_type": "markdown",
   "metadata": {},
   "source": [
    "**Задача 26: Возведение в степень**\n",
    "\n",
    "Напишите функцию f, которая на вход принимает два числа a и b, и возводит число a в целую степень b с помощью рекурсии.\n",
    "\n",
    "Функция не должна ничего выводить, только возвращать значение.\n",
    "\n",
    "Пример:\n",
    "\n",
    "a = 3; b = 5 -> 243 (3⁵)\n",
    "\n",
    "a = 2; b = 3 -> 8 "
   ]
  },
  {
   "cell_type": "code",
   "execution_count": null,
   "metadata": {},
   "outputs": [],
   "source": [
    "def f(a, b):\n",
    "    if b >= 1:\n",
    "        exp_a = a*f(a, b-1)\n",
    "        \n",
    "    else:\n",
    "        exp_a = 1\n",
    "    return exp_a\n",
    "\n",
    "a = 3\n",
    "b = 3\n",
    "print(f(a, b))"
   ]
  },
  {
   "cell_type": "markdown",
   "metadata": {},
   "source": [
    "\n",
    "**Задача 28: Рекурсивная сумма**\n",
    "\n",
    "Напишите рекурсивную функцию sum(a, b), возвращающую сумму двух целых неотрицательных чисел. Из всех арифметических операций допускаются только +1 и -1. Также нельзя использовать циклы.\n",
    "\n",
    "Функция не должна ничего выводить, только возвращать значение.\n",
    "\n",
    "Пример:\n",
    "\n",
    "sum(2, 2) -> 4"
   ]
  },
  {
   "cell_type": "code",
   "execution_count": null,
   "metadata": {},
   "outputs": [],
   "source": [
    "def sum(a, b):\n",
    "    if b >= 1:\n",
    "        summ = sum(a, b-1) + 1\n",
    "    else:\n",
    "        summ = a\n",
    "    return summ\n",
    "\n",
    "a = 22\n",
    "b = 10\n",
    "print(sum(a, b))"
   ]
  }
 ],
 "metadata": {
  "kernelspec": {
   "display_name": ".folder",
   "language": "python",
   "name": "python3"
  },
  "language_info": {
   "codemirror_mode": {
    "name": "ipython",
    "version": 3
   },
   "file_extension": ".py",
   "mimetype": "text/x-python",
   "name": "python",
   "nbconvert_exporter": "python",
   "pygments_lexer": "ipython3",
   "version": "3.9.10"
  }
 },
 "nbformat": 4,
 "nbformat_minor": 2
}

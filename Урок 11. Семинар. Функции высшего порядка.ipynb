{
 "cells": [
  {
   "cell_type": "markdown",
   "metadata": {},
   "source": [
    "**Задача №47.** \n",
    "\n",
    "У вас есть код, который вы не можете менять (так часто бывает, когда код в глубине\n",
    "программы используется множество раз и вы не хотите ничего сломать):\n",
    "\n",
    "transformation = <???>\n",
    "\n",
    "values = [2, 3, 5, 7, 11, 13, 17, 19, 23, 29] # или любой другой список\n",
    "\n",
    "transormed_values = list(map(transformation, values))\n",
    "\n",
    "Единственный способ вашего взаимодействия с этим кодом - посредством задания\n",
    "функции transformation.\n",
    "Однако вы поняли, что для вашей текущей задачи вам не нужно никак преобразовывать\n",
    "список значений, а нужно получить его как есть.\n",
    "Напишите такое лямбда-выражение transformation, чтобы transformed_values получился\n",
    "копией values\n",
    "\n",
    "Ввод:\n",
    "\n",
    "values = [1, 23, 42, ‘asdfg’]\n",
    "\n",
    "transformed_values = list(map(trasformation, values))\n",
    "\n",
    "if values == transformed_values:\n",
    "\n",
    " print(‘ok’)\n",
    "\n",
    "else:\n",
    "\n",
    " print(‘fail’)\n",
    "\n",
    "Вывод:\n",
    "\n",
    "ok\n"
   ]
  },
  {
   "cell_type": "code",
   "execution_count": 3,
   "metadata": {},
   "outputs": [
    {
     "name": "stdout",
     "output_type": "stream",
     "text": [
      "ok\n"
     ]
    }
   ],
   "source": [
    "trasformation = lambda x: x\n",
    "\n",
    "values = [2, 3, 5, 7, 11, 13, 17, 19, 23, 29]\n",
    "transformed_values = list(map(trasformation, values))\n",
    "if values == transformed_values:\n",
    "    print('ok')\n",
    "else:\n",
    "    print('fail')\n",
    "\n"
   ]
  },
  {
   "cell_type": "markdown",
   "metadata": {},
   "source": [
    "**Задача №49.** \n",
    "\n",
    "Планеты вращаются вокруг звезд по эллиптическим орбитам. \n",
    "Назовем самой далекой планетой ту, орбита которой имеет \n",
    "самую большую площадь. Напишите функцию \n",
    "find_farthest_orbit(list_of_orbits), которая среди списка орбит \n",
    "планет найдет ту, по которой вращается самая далекая \n",
    "планета. Круговые орбиты не учитывайте: вы знаете, что у \n",
    "вашей звезды таких планет нет, зато искусственные спутники \n",
    "были были запущены на круговые орбиты. Результатом \n",
    "функции должен быть кортеж, содержащий длины полуосей \n",
    "эллипса орбиты самой далекой планеты. Каждая орбита \n",
    "представляет из себя кортеж из пары чисел - полуосей ее \n",
    "эллипса. Площадь эллипса вычисляется по формуле S = pi*a*b, \n",
    "где a и b - длины полуосей эллипса. При решении задачи \n",
    "используйте списочные выражения. Подсказка: проще всего \n",
    "будет найти эллипс в два шага: сначала вычислить самую \n",
    "большую площадь эллипса, а затем найти и сам эллипс, \n",
    "имеющий такую площадь. Гарантируется, что самая далекая \n",
    "планета ровно одна\n",
    "\n",
    "Ввод:\n",
    "\n",
    "orbits = [(1, 3), (2.5, 10), (7, 2), (6, 6), (4, 3)]\n",
    "\n",
    "print(*find_farthest_orbit(orbits))\n",
    "\n",
    "Вывод:\n",
    "\n",
    "2.5 10\n"
   ]
  },
  {
   "cell_type": "code",
   "execution_count": 4,
   "metadata": {},
   "outputs": [
    {
     "name": "stdout",
     "output_type": "stream",
     "text": [
      "2.5 10\n"
     ]
    }
   ],
   "source": [
    "from math import pi #импортируем пи \n",
    "\n",
    "def find_farthest_orbit(list_of_orbits):\n",
    "    list1 = [i for i in list_of_orbits if i[0] != i[1]] #создаем список только элипсов\n",
    "    list_s = [(pi * i[0] * i[1]) for i in list1] # создаем список площадей элипсов\n",
    "    max_s = list_s.index(max(list_s)) # находим индекс максимального значения площади\n",
    "    \n",
    "    return list1[max_s] # возвращаем кортеж орбиты с максимальной площадью\n",
    "\n",
    "\n",
    "\n",
    "orbits = [(1, 3), (2.5, 10), (7, 2), (6, 6), (4, 3)]\n",
    "print(*find_farthest_orbit(orbits))\n",
    "\n"
   ]
  },
  {
   "cell_type": "markdown",
   "metadata": {},
   "source": [
    "**Задача №51.** \n",
    "\n",
    "Напишите функцию same_by(characteristic, objects), которая \n",
    "проверяет, все ли объекты имеют одинаковое значение \n",
    "некоторой характеристики, и возвращают True, если это так. \n",
    "Если значение характеристики для разных объектов \n",
    "отличается - то False. Для пустого набора объектов, функция \n",
    "должна возвращать True. Аргумент characteristic - это \n",
    "функция, которая принимает объект и вычисляет его \n",
    "характеристику.\n",
    "\n",
    "Ввод: \n",
    "\n",
    "values = [0, 2, 10, 6] same\n",
    "\n",
    "if same_by(lambda x: x % 2, values):\n",
    "\n",
    "print(‘same’)\n",
    "\n",
    "else:\n",
    "\n",
    "print(‘different’)\n",
    "\n",
    "Вывод:\n",
    "\n",
    "‘same’"
   ]
  },
  {
   "cell_type": "code",
   "execution_count": 5,
   "metadata": {},
   "outputs": [
    {
     "name": "stdout",
     "output_type": "stream",
     "text": [
      "same\n"
     ]
    }
   ],
   "source": [
    "def same_by(characteristic, objects):\n",
    "    result = True\n",
    "    list1 = [characteristic(x) for x in objects]\n",
    "    for i in range(len(list1)-1):\n",
    "        if list1[i] != list1[i+1]:\n",
    "            result = False\n",
    "    return result\n",
    "\n",
    "\n",
    "values = [0, 2, 10, 6] \n",
    "if same_by(lambda x: x % 2, values):\n",
    "    print('same')\n",
    "else:\n",
    "    print('different')"
   ]
  },
  {
   "cell_type": "markdown",
   "metadata": {},
   "source": [
    "# Домашка"
   ]
  },
  {
   "cell_type": "markdown",
   "metadata": {},
   "source": [
    "print_operation_table\n",
    "\n",
    "Напишите функцию print_operation_table(operation, num_rows, num_columns), которая принимает в качестве аргумента функцию, вычисляющую элемент по номеру строки и столбца. По умолчанию номер столбца и строки = 9.\n",
    "\n",
    "Аргументы num_rows и num_columns указывают число строк и столбцов таблицы, которые должны быть распечатаны.\n",
    "\n",
    "Нумерация строк и столбцов идет с единицы (подумайте, почему не с нуля).\n",
    "\n",
    "Если строк меньше двух, выдайте текст\n",
    "ОШИБКА! Размерности таблицы должны быть больше 2!.\n",
    "\n",
    "Примечание: бинарной операцией называется любая операция, у которой ровно два аргумента, как, например, у операции умножения.\n",
    "\n",
    "Между элементами должен быть 1 пробел, в конце строки пробел не нужен.\n",
    "\n",
    "Пример\n",
    "\n",
    "На входе:\n",
    "\n",
    "\n",
    "print_operation_table(lambda x, y: x * y, 3, 3)\n",
    "\n",
    "На выходе:\n",
    "\n",
    "1 2 3\n",
    "\n",
    "2 4 6 \n",
    "\n",
    "3 6 9"
   ]
  },
  {
   "cell_type": "code",
   "execution_count": 1,
   "metadata": {},
   "outputs": [
    {
     "name": "stdout",
     "output_type": "stream",
     "text": [
      "1 2 3\n",
      "2 4 6\n",
      "3 6 9\n"
     ]
    }
   ],
   "source": [
    "def print_operation_table(operation, num_rows = 9, num_columns = 9):\n",
    "    if num_rows < 2:\n",
    "        print('ОШИБКА! Размерности таблицы должны быть больше 2!')\n",
    "    else:\n",
    "        for i in range(num_rows):\n",
    "            lst = []\n",
    "            for j in range(num_columns):\n",
    "                lst.append(operation(i+1,j+1))\n",
    "            print(*lst)\n",
    " \n",
    "print_operation_table(lambda x, y: x * y, 3, 3)"
   ]
  },
  {
   "cell_type": "markdown",
   "metadata": {},
   "source": [
    "**Винни Пух**\n",
    "\n",
    "Винни-Пух попросил Вас посмотреть, есть ли в его стихах ритм. Поскольку разобраться в его кричалках не настолько просто, насколько легко он их придумывает, Вам стоит написать программу.\n",
    "\n",
    "Винни-Пух считает, что ритм есть, если число слогов (т.е. число гласных букв) в каждой фразе стихотворения одинаковое.\n",
    "Фраза может состоять из одного слова, если во фразе несколько слов, то они разделяются дефисами.\n",
    "Фразы отделяются друг от друга пробелами.\n",
    "\n",
    "Стихотворение  Винни-Пух передаст вам автоматически в переменную stroka в виде строки. В ответе напишите Парам пам-пам, если с ритмом все в порядке и Пам парам, если с ритмом все не в порядке.\n",
    "Если фраза только одна, то ритм определить не получится и необходимо вывести: Количество фраз должно быть больше одной!.\n",
    "\n",
    "Пример\n",
    "\n",
    "На входе:\n",
    "\n",
    "stroka = 'пара-ра-рам рам-пам-папам па-ра-па-дам'\n",
    "\n",
    "На выходе:\n",
    "\n",
    "Парам пам-пам"
   ]
  },
  {
   "cell_type": "code",
   "execution_count": 2,
   "metadata": {},
   "outputs": [
    {
     "name": "stdout",
     "output_type": "stream",
     "text": [
      "Парам пам-пам\n"
     ]
    }
   ],
   "source": [
    "stroka = 'пара-ра-рам рам-пам-папам па-ра-па-дам'\n",
    "\n",
    "dct = [\"а\",\"о\",\"у\",\"ы\",\"э\",\"я\",\"ё\",\"ю\",\"и\",\"е\"]\n",
    "str_lst = stroka.split()\n",
    "\n",
    "if len(str_lst) <= 1:\n",
    "    print('Количество фраз должно быть больше одной!')\n",
    "else:\n",
    "    lst = []\n",
    "    for word in str_lst:\n",
    "        count = 0\n",
    "        for i in word:\n",
    "            if i in dct:\n",
    "                count += 1\n",
    "        lst.append(count)\n",
    "\n",
    "    flag = True        \n",
    "    for i in range(len(lst)-1):\n",
    "        if lst[i] != lst[i+1]:\n",
    "            flag = False\n",
    "    if flag:\n",
    "        print('Парам пам-пам')\n",
    "    else:\n",
    "        print('Пам парам')\n",
    "        \n"
   ]
  },
  {
   "cell_type": "code",
   "execution_count": 1,
   "metadata": {},
   "outputs": [
    {
     "name": "stdout",
     "output_type": "stream",
     "text": [
      "Парам пам-пам\n"
     ]
    }
   ],
   "source": [
    "stroka = 'пара-ра-рам рам-пам-папам па-ра-па-дам'\n",
    "vowels = ['а', 'е', 'ё', 'и', 'й', 'о', 'у', 'ы', 'э', 'ю', 'я']\n",
    "phrases = stroka.split()\n",
    "if len(phrases) < 2:\n",
    "    print('Количество фраз должно быть больше одной!')\n",
    "else:\n",
    "    countVowels = []\n",
    "\n",
    "    for i in phrases:\n",
    "        countVowels.append(len([x for x in i if x.lower() in vowels]))\n",
    "\n",
    "    if countVowels.count(countVowels[0]) == len(countVowels):\n",
    "        print('Парам пам-пам')\n",
    "    else:\n",
    "        print('Пам парам')"
   ]
  }
 ],
 "metadata": {
  "kernelspec": {
   "display_name": ".folder",
   "language": "python",
   "name": "python3"
  },
  "language_info": {
   "codemirror_mode": {
    "name": "ipython",
    "version": 3
   },
   "file_extension": ".py",
   "mimetype": "text/x-python",
   "name": "python",
   "nbconvert_exporter": "python",
   "pygments_lexer": "ipython3",
   "version": "3.9.10"
  }
 },
 "nbformat": 4,
 "nbformat_minor": 2
}

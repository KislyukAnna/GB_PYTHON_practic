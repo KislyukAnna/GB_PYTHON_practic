{
 "cells": [
  {
   "cell_type": "markdown",
   "metadata": {},
   "source": [
    "**Задача №39.**\n",
    "\n",
    "Даны два массива чисел. \n",
    "\n",
    "Требуется вывести те элементы\n",
    "первого массива (в том порядке, в каком они идут в первом\n",
    "массиве), которых нет во втором массиве. \n",
    "\n",
    "Пользователь вводит \n",
    "число N - количество элементов в первом массиве, затем N\n",
    "чисел - элементы массива. Затем число M - количество\n",
    "элементов во втором массиве. Затем элементы второго массива\n",
    "\n",
    "Ввод: \n",
    "7 \n",
    "\n",
    "3 1 3 4 2 4 12\n",
    "\n",
    "6\n",
    "\n",
    "4 15 43 1 15 1 \n",
    "\n",
    "\n",
    "Вывод: 3 3 2 12 (каждое число вводится с новой строки)"
   ]
  },
  {
   "cell_type": "code",
   "execution_count": 6,
   "metadata": {},
   "outputs": [
    {
     "name": "stdout",
     "output_type": "stream",
     "text": [
      "2\n",
      "3\n"
     ]
    }
   ],
   "source": [
    "# n = int(input())\n",
    "# list1 = []\n",
    "# for i in range(n):\n",
    "#     x = int(input())\n",
    "#     list1.append(x)\n",
    "\n",
    "# m = int(input())\n",
    "# list2 = []\n",
    "# for i in range(m):\n",
    "#     x = int(input())\n",
    "#     list1.append(x)\n",
    "\n",
    "n = 4\n",
    "list1 = [1,2,3,4]\n",
    "m = 5\n",
    "list2 = [1,4,8,5,6]\n",
    "\n",
    "count = 0\n",
    "for i in range(n):\n",
    "    for j in range(m):\n",
    "        if list1[i] == list2[j]:\n",
    "            count +=1\n",
    "    if count == 0:\n",
    "        print(list1[i])\n",
    "    count = 0\n"
   ]
  },
  {
   "cell_type": "code",
   "execution_count": 8,
   "metadata": {},
   "outputs": [
    {
     "name": "stdout",
     "output_type": "stream",
     "text": [
      "2\n",
      "3\n"
     ]
    }
   ],
   "source": [
    "n = 4\n",
    "list1 = [1,2,3,4]\n",
    "m = 5\n",
    "list2 = [1,4,8,5,6]\n",
    "\n",
    "for i in range(n):\n",
    "    if list1[i] in list2:\n",
    "        continue\n",
    "    else:\n",
    "        print(list1[i])"
   ]
  },
  {
   "cell_type": "markdown",
   "metadata": {},
   "source": [
    "**Задача №41.** \n",
    "\n",
    "Дан массив, состоящий из целых чисел. \n",
    "\n",
    "Напишите программу, которая в данном массиве определит\n",
    "количество элементов, у которых два соседних и, при\n",
    "этом, оба соседних элемента меньше данного. \n",
    "\n",
    "Сначала вводится число N — количество элементов в массиве \n",
    "Далее записаны N чисел — элементы массива. Массив\n",
    "состоит из целых чисел.\n",
    "\n",
    "(каждое число вводится с новой строки)\n",
    "\n",
    "Ввод:\n",
    "\n",
    "5\n",
    "\n",
    "1 5 1 5 1\n",
    "\n",
    "Вывод:                   \n",
    "\n",
    "2"
   ]
  },
  {
   "cell_type": "code",
   "execution_count": 10,
   "metadata": {},
   "outputs": [
    {
     "name": "stdout",
     "output_type": "stream",
     "text": [
      "2\n"
     ]
    }
   ],
   "source": [
    "# n = int(input())\n",
    "# list1 = []\n",
    "# for i in range(n):\n",
    "#     x = int(input())\n",
    "#     list1.append(x)\n",
    "\n",
    "n = 5\n",
    "list1 = [1,5,1,5,1]\n",
    "\n",
    "count = 0\n",
    "for i in range(1,n-1):\n",
    "    if list1[i-1] < list1[i] > list1[i+1]:\n",
    "        count +=1\n",
    "print(count)"
   ]
  },
  {
   "cell_type": "markdown",
   "metadata": {},
   "source": [
    "**Задача №43.**\n",
    "\n",
    "Дан список чисел. Посчитайте, сколько в нем пар\n",
    "элементов, равных друг другу. Считается, что любые\n",
    "два элемента, равные друг другу образуют одну пару,\n",
    "которую необходимо посчитать. Вводится список\n",
    "чисел. Все числа списка находятся на разных\n",
    "строках.\n",
    "\n",
    "Ввод: \n",
    "\n",
    "1 2 3 2 3 \n",
    "\n",
    "Вывод:\n",
    "\n",
    "2"
   ]
  },
  {
   "cell_type": "code",
   "execution_count": 11,
   "metadata": {},
   "outputs": [
    {
     "name": "stdout",
     "output_type": "stream",
     "text": [
      "2\n"
     ]
    }
   ],
   "source": [
    "list1 = [1,2,3,2,3]\n",
    "count = 0\n",
    "\n",
    "for i in range(len(list1)):\n",
    "    for j in range(i+1,len(list1)):\n",
    "        if list1[i] == list1[j]:\n",
    "            count +=1\n",
    "print(count)"
   ]
  },
  {
   "cell_type": "markdown",
   "metadata": {},
   "source": [
    "**Задача №45.** \n",
    "\n",
    "Два различных натуральных числа n и m называются\n",
    "дружественными, если сумма делителей числа n\n",
    "(включая 1, но исключая само n) равна числу m и\n",
    "наоборот. Например, 220 и 284 – дружественные числа.\n",
    "\n",
    "По данному числу k выведите все пары дружественных\n",
    "чисел, каждое из которых не превосходит k. Программа\n",
    "получает на вход одно натуральное число k, не\n",
    "превосходящее 10**5. Программа должна вывести все\n",
    "пары дружественных чисел, каждое из которых не\n",
    "превосходит k. Пары необходимо выводить по одной в\n",
    "строке, разделяя пробелами. Каждая пара должна быть\n",
    "выведена только один раз (перестановка чисел новую\n",
    "пару не дает).\n",
    "\n",
    "Ввод: \n",
    "\n",
    "300\n",
    "\n",
    "Вывод:\n",
    "\n",
    "220 284\n"
   ]
  },
  {
   "cell_type": "code",
   "execution_count": 38,
   "metadata": {},
   "outputs": [
    {
     "name": "stdout",
     "output_type": "stream",
     "text": [
      "220 284\n"
     ]
    }
   ],
   "source": [
    "k = 300 #int(input())\n",
    "list1 = []\n",
    "\n",
    "for i in range(k):\n",
    "    summa = 0\n",
    "    for j in range(1, i//2 + 1):\n",
    "        if i % j == 0:\n",
    "            summa += j\n",
    "    list1.append(tuple([i, summa]))\n",
    "\n",
    "for i in range(len(list1)):\n",
    "    for j in range(i, len(list1)):\n",
    "        if i != j and list1[i][0] == list1[j][1] and list1[i][1] == list1[j][0]:\n",
    "            print(*list1[i])"
   ]
  },
  {
   "cell_type": "markdown",
   "metadata": {},
   "source": [
    "# Домашка"
   ]
  },
  {
   "cell_type": "markdown",
   "metadata": {},
   "source": [
    "**Элементы из заданного диапазона**\n",
    "\n",
    "Определить индексы элементов массива (списка), значения которых принадлежат заданному диапазону (т.е. не меньше заданного минимума и не больше заданного максимума).\n",
    "На вход подается список с элементамиlist_1 и границы диапазона в виде чисел min_number, max_number.\n",
    "\n",
    "Пример\n",
    "\n",
    "На входе:\n",
    "\n",
    "\n",
    "list_1 = [-5, 9, 0, 3, -1, -2, 1, 4, -2, 10, 2, 0, -9, 8, 10, -9, 0, -5, -5, 7]\n",
    "\n",
    "min_number = 0\n",
    "\n",
    "max_number = 10\n",
    "\n",
    "\n",
    "На выходе:\n",
    "\n",
    "1\n",
    "2\n",
    "3\n",
    "6\n",
    "7\n",
    "9\n",
    "10\n",
    "11\n",
    "13\n",
    "14\n",
    "16\n",
    "19"
   ]
  },
  {
   "cell_type": "code",
   "execution_count": null,
   "metadata": {},
   "outputs": [],
   "source": [
    "list_1 = [-5,9,0,3,-1,-2,1,4,-2,10,2,0,-9,8,10,-9,0,-5,-5,7]\n",
    "min_number = 0\n",
    "max_number = 10\n",
    "\n",
    "for i in range(len(list_1)):\n",
    "    if min_number <= list_1[i] <= max_number: \n",
    "        print(i)"
   ]
  },
  {
   "cell_type": "markdown",
   "metadata": {},
   "source": [
    "**Арифметическая прогрессия**\n",
    "\n",
    "Заполните массив элементами арифметической прогрессии. Её первый элемент a1 , разность d и количество элементов n будет задано автоматически. Формула для получения n-го члена прогрессии: an = a1 + (n-1) * d.\n",
    "\n",
    "Пример\n",
    "\n",
    "На входе:\n",
    "\n",
    "\n",
    "a1 = 2\n",
    "\n",
    "d = 3\n",
    "\n",
    "n = 4\n",
    "\n",
    "На выходе:\n",
    "\n",
    "2\n",
    "\n",
    "5\n",
    "\n",
    "8\n",
    "\n",
    "11"
   ]
  },
  {
   "cell_type": "code",
   "execution_count": 36,
   "metadata": {},
   "outputs": [
    {
     "name": "stdout",
     "output_type": "stream",
     "text": [
      "7\n",
      "9\n",
      "11\n",
      "13\n",
      "15\n"
     ]
    }
   ],
   "source": [
    "a1 = 7\n",
    "d = 2\n",
    "n = 5\n",
    "\n",
    "for i in range(n):\n",
    "    print(a1 + i * d)"
   ]
  }
 ],
 "metadata": {
  "kernelspec": {
   "display_name": ".folder",
   "language": "python",
   "name": "python3"
  },
  "language_info": {
   "codemirror_mode": {
    "name": "ipython",
    "version": 3
   },
   "file_extension": ".py",
   "mimetype": "text/x-python",
   "name": "python",
   "nbconvert_exporter": "python",
   "pygments_lexer": "ipython3",
   "version": "3.9.10"
  }
 },
 "nbformat": 4,
 "nbformat_minor": 2
}
